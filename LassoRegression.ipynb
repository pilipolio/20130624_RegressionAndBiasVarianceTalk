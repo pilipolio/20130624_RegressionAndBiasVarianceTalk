{
 "metadata": {
  "name": "LassoRegression"
 },
 "nbformat": 3,
 "nbformat_minor": 0,
 "worksheets": [
  {
   "cells": [
    {
     "cell_type": "markdown",
     "metadata": {},
     "source": [
      "### Example on real data sets\n",
      "\n",
      "Classic [Boston housing data set](http://archive.ics.uci.edu/ml/datasets/Housing)"
     ]
    },
    {
     "cell_type": "code",
     "collapsed": false,
     "input": [
      "!wget http://lib.stat.cmu.edu/datasets/boston_corrected.txt"
     ],
     "language": "python",
     "metadata": {},
     "outputs": [
      {
       "output_type": "stream",
       "stream": "stdout",
       "text": [
        "--2013-05-20 23:05:32--  http://lib.stat.cmu.edu/datasets/boston_corrected.txt\r\n",
        "Resolving lib.stat.cmu.edu (lib.stat.cmu.edu)... "
       ]
      },
      {
       "output_type": "stream",
       "stream": "stdout",
       "text": [
        "128.2.234.14\r\n",
        "Connecting to lib.stat.cmu.edu (lib.stat.cmu.edu)|128.2.234.14|:80... "
       ]
      },
      {
       "output_type": "stream",
       "stream": "stdout",
       "text": [
        "connected.\r\n",
        "HTTP request sent, awaiting response... "
       ]
      },
      {
       "output_type": "stream",
       "stream": "stdout",
       "text": [
        "200 OK\r\n",
        "Length: 62136 (61K) [text/plain]\r\n",
        "Saving to: `boston_corrected.txt'\r\n",
        "\r\n",
        "\r",
        " 0% [                                       ] 0           --.-K/s              "
       ]
      },
      {
       "output_type": "stream",
       "stream": "stdout",
       "text": [
        "\r",
        "13% [====>                                  ] 8,398       35.7K/s              "
       ]
      },
      {
       "output_type": "stream",
       "stream": "stdout",
       "text": [
        "\r",
        "54% [====================>                  ] 33,900      76.9K/s              "
       ]
      },
      {
       "output_type": "stream",
       "stream": "stdout",
       "text": [
        "\r",
        "97% [====================================>  ] 60,380      92.2K/s              \r",
        "100%[======================================>] 62,136      93.4K/s   in 0.6s    \r\n",
        "\r\n",
        "2013-05-20 23:05:35 (93.4 KB/s) - `boston_corrected.txt' saved [62136/62136]\r\n",
        "\r\n"
       ]
      }
     ],
     "prompt_number": 100
    },
    {
     "cell_type": "code",
     "collapsed": false,
     "input": [
      "! head -n 15 boston_corrected.txt"
     ],
     "language": "python",
     "metadata": {},
     "outputs": [
      {
       "output_type": "stream",
       "stream": "stdout",
       "text": [
        "This file contains the Harrison and Rubinfeld (1978) data corrected for a few minor errors and augmented with the latitude and longitude of the observations. This file appears under boston in the statlib index. One can obtain matlab and spreadsheet versions of the information below from www.finance.lsu/re under spatial statistics links.\r\n",
        "\r\n",
        "Harrison, David, and Daniel L. Rubinfeld, \ufffdHedonic Housing Prices and the Demand for Clean Air,\ufffd Journal of Environmental Economics and Management, Volume 5, (1978), 81-102. Original data.\r\n",
        "\r\n",
        "Gilley, O.W., and R. Kelley Pace, \ufffdOn the Harrison and Rubinfeld Data,\ufffd Journal of Environmental Economics and Management, 31 (1996), 403-405. Provided corrections and examined censoring.\r\n",
        "\r\n",
        "Pace, R. Kelley, and O.W. Gilley, \ufffdUsing the Spatial Configuration of the Data to Improve Estimation,\ufffd  Journal of the Real Estate Finance and Economics 14 (1997), 333-340. Added georeferencing and spatial estimation.\r\n",
        "\r\n",
        "\r\n",
        "OBS.\tTOWN\tTOWN#\tTRACT\tLON\tLAT\tMEDV\tCMEDV\tCRIM\tZN\tINDUS\tCHAS\tNOX\tRM\tAGE\tDIS\tRAD\tTAX\tPTRATIO\tB\tLSTAT\r\n",
        "1\tNahant\t0\t2011\t-70.955000\t42.255000\t24.0\t24.0\t0.00632\t18.0\t2.31\t0\t0.538\t6.575\t65.2\t4.0900\t1\t296\t15.3\t396.90\t4.98\r\n",
        "2\tSwampscott\t1\t2021\t-70.950000\t42.287500\t21.6\t21.6\t0.02731\t0.0\t7.07\t0\t0.469\t6.421\t78.9\t4.9671\t2\t242\t17.8\t396.90\t9.14\r\n",
        "3\tSwampscott\t1\t2022\t-70.936000\t42.283000\t34.7\t34.7\t0.02729\t0.0\t7.07\t0\t0.469\t7.185\t61.1\t4.9671\t2\t242\t17.8\t392.83\t4.03\r\n",
        "4\tMarblehead\t2\t2031\t-70.928000\t42.293000\t33.4\t33.4\t0.03237\t0.0\t2.18\t0\t0.458\t6.998\t45.8\t6.0622\t3\t222\t18.7\t394.63\t2.94\r\n",
        "5\tMarblehead\t2\t2032\t-70.922000\t42.298000\t36.2\t36.2\t0.06905\t0.0\t2.18\t0\t0.458\t7.147\t54.2\t6.0622\t3\t222\t18.7\t396.90\t5.33\r\n"
       ]
      }
     ],
     "prompt_number": 101
    },
    {
     "cell_type": "code",
     "collapsed": false,
     "input": [
      "import numpy as np\n",
      "import pandas as pd\n",
      "boston = pd.read_csv('boston_corrected.txt', sep='\\t',\n",
      "    skiprows=9, index_col='OBS.')\n",
      "boston.head()[['TOWN', 'LAT', 'LON', 'CRIM', 'AGE', 'B', 'TAX', 'INDUS', 'MEDV']]\n",
      "print boston.shape"
     ],
     "language": "python",
     "metadata": {},
     "outputs": [
      {
       "output_type": "stream",
       "stream": "stdout",
       "text": [
        "(507, 20)\n"
       ]
      }
     ],
     "prompt_number": 123
    },
    {
     "cell_type": "code",
     "collapsed": false,
     "input": [],
     "language": "python",
     "metadata": {},
     "outputs": []
    },
    {
     "cell_type": "code",
     "collapsed": false,
     "input": [
      "plt.subplot?"
     ],
     "language": "python",
     "metadata": {},
     "outputs": [],
     "prompt_number": 187
    },
    {
     "cell_type": "code",
     "collapsed": false,
     "input": [
      "import matplotlib.pyplot as plt\n",
      "f, (ax1, ax2) = plt.subplots(1,2)\n",
      "ax1.hist(boston['MEDV'], bins=20)\n",
      "\n",
      "ax2.hist(boston['MEDV'], bins=np.logspace(0, 3, 20))\n",
      "ax2.set_xscale('log')\n"
     ],
     "language": "python",
     "metadata": {},
     "outputs": [
      {
       "output_type": "display_data",
       "png": "[encoded data removed]"
      }
     ],
     "prompt_number": 192
    },
    {
     "cell_type": "markdown",
     "metadata": {},
     "source": [
      "[`sklearn.linear_model.Lasso`](http://scikit-learn.org/dev/modules/generated/sklearn.linear_model.Lasso.html) and  [`sklearn.grid_search.GridSearchCV`](http://scikit-learn.org/dev/modules/generated/sklearn.grid_search.GridSearchCV.html)"
     ]
    },
    {
     "cell_type": "code",
     "collapsed": false,
     "input": [
      "boston = boston.dropna(axis=0)"
     ],
     "language": "python",
     "metadata": {},
     "outputs": [],
     "prompt_number": 129
    },
    {
     "cell_type": "code",
     "collapsed": false,
     "input": [
      "from sklearn import cross_validation\n",
      "\n",
      "explanatory_cols = ['CRIM', 'ZN', 'INDUS', 'CHAS', 'NOX', 'RM', 'AGE', 'DIS', 'RAD', 'TAX', 'PTRATIO', 'B', 'LSTAT']\n",
      "X_train, X_test, y_train, y_test = cross_validation.train_test_split(\n",
      "    boston[explanatory_cols], boston.ix[:,'MEDV'], test_size=0.4, random_state=0)\n",
      "from sklearn.preprocessing import StandardScaler\n",
      "scaler = StandardScaler()\n",
      "X_train = scaler.fit_transform(X_train)\n",
      "X_test = scaler.transform(X_test)\n",
      "\n",
      "print boston.shape, X_train.shape, X_test.shape"
     ],
     "language": "python",
     "metadata": {},
     "outputs": [
      {
       "output_type": "stream",
       "stream": "stdout",
       "text": [
        "(506, 20) (303, 13) (203, 13)\n"
       ]
      }
     ],
     "prompt_number": 253
    },
    {
     "cell_type": "code",
     "collapsed": false,
     "input": [
      "import itertools\n",
      "second_order_combinations = list(itertools.combinations_with_replacement(range(X_train.shape[1]), 2))\n",
      "\n",
      "X_train = np.transpose([X_train[:,i] * X_train[:,j]\n",
      "    for i,j in second_order_combinations])\n",
      "X_test = np.transpose([X_test[:,i] * X_test[:,j]\n",
      "    for i,j in second_order_combinations])\n",
      "print X_train.shape, y_train.shape"
     ],
     "language": "python",
     "metadata": {},
     "outputs": [
      {
       "output_type": "stream",
       "stream": "stdout",
       "text": [
        "(303, 91) (303,)\n"
       ]
      }
     ],
     "prompt_number": 251
    },
    {
     "cell_type": "code",
     "collapsed": false,
     "input": [
      "from sklearn.linear_model import LinearRegression \n",
      "ols = LinearRegression()\n",
      "ols_fit = clf.fit(X=X_train, y=y_train)\n",
      "\n",
      "print '{} out of {} non zero coefficients with ||w||_2 = {}'.format(\n",
      "    np.sum(np.abs(ols_fit.coef_)>=.01),\n",
      "    len(ols_fit.coef_),\n",
      "    np.linalg.norm(ols_fit.coef_, ord=2))\n",
      "\n",
      "print ols_fit.score(X=X_train, y=y_train), ols_fit.score(X=X_test, y=y_test) \n",
      "\n",
      "def get_significant_coef(coefs, explanatory_cols, second_order_combinations, threshold=.5):\n",
      "    return ['{} * {} = {}'.format(explanatory_cols[i], explanatory_cols[j], c) for (i,j), c in zip(second_order_combinations, coefs) if abs(c) > threshold]\n",
      "print get_significant_coef(ols_fit.coef_, explanatory_cols, second_order_combinations)"
     ],
     "language": "python",
     "metadata": {},
     "outputs": [
      {
       "output_type": "stream",
       "stream": "stdout",
       "text": [
        "3 out of 13 non zero coefficients with ||w||_2 = 4.83142803599\n",
        "0.689113551553 0.625487738575\n",
        "['CRIM * RM = 2.45410544226', 'CRIM * PTRATIO = -1.8409232126', 'CRIM * LSTAT = -3.73243420177']\n"
       ]
      }
     ],
     "prompt_number": 254
    },
    {
     "cell_type": "code",
     "collapsed": false,
     "input": [
      "for p in np.linspace(.1, .9, 10):\n",
      "    x_t, a, y_t, b = cross_validation.train_test_split(\n",
      "        boston[explanatory_cols], boston.ix[:,'MEDV'], test_size=p, random_state=0) \n",
      "    ols_fit = LinearRegression().fit(X=x_t, y=y_t)\n",
      "    print 'x_t.shape = {},  {} out of {} non zero coefficients with ||w||_2 = {}'.format(\n",
      "        x_t.shape,\n",
      "        np.sum(np.abs(ols_fit.coef_)>=.01),\n",
      "        len(ols_fit.coef_),\n",
      "        np.linalg.norm(ols_fit.coef_, ord=2))"
     ],
     "language": "python",
     "metadata": {},
     "outputs": [
      {
       "output_type": "stream",
       "stream": "stdout",
       "text": [
        "x_t.shape = (455, 13),  11 out of 13 non zero coefficients with ||w||_2 = 16.7136620181\n",
        "x_t.shape = (410, 13),  10 out of 13 non zero coefficients with ||w||_2 = 17.3710283206\n",
        "x_t.shape = (365, 13),  10 out of 13 non zero coefficients with ||w||_2 = 16.4377194102\n",
        "x_t.shape = (320, 13),  11 out of 13 non zero coefficients with ||w||_2 = 18.0964699833\n",
        "x_t.shape = (275, 13),  11 out of 13 non zero coefficients with ||w||_2 = 20.3958815354\n",
        "x_t.shape = (230, 13),  11 out of 13 non zero coefficients with ||w||_2 = 17.7868462582\n",
        "x_t.shape = (185, 13),  12 out of 13 non zero coefficients with ||w||_2 = 15.3978473822\n",
        "x_t.shape = (140, 13),  10 out of 13 non zero coefficients with ||w||_2 = 16.6725552627\n",
        "x_t.shape = (95, 13),  11 out of 13 non zero coefficients with ||w||_2 = 12.4778921797\n",
        "x_t.shape = (50, 13),  11 out of 13 non zero coefficients with ||w||_2 = 9.8257665043\n"
       ]
      }
     ],
     "prompt_number": 255
    },
    {
     "cell_type": "code",
     "collapsed": false,
     "input": [
      "from sklearn.linear_model import Lasso, Ridge\n",
      "ridge_regressor = Ridge(alpha=1, max_iter=10000)\n",
      "ridge_fit = ridge_regressor.fit(X=X_train, y=y_train)\n",
      "\n",
      "from sklearn.grid_search import GridSearchCV\n",
      "ridge_cv = GridSearchCV(Ridge(), param_grid={'alpha':np.logspace(0,3,100)}, cv=3)\n",
      "ridge_cv.fit(X=X_train, y=y_train)\n",
      "\n",
      "ridge_cv.best_params_\n",
      "\n",
      "plt.plot(ridge_cv.param_grid['alpha'], [score for params, score, fold_scores in ridge_cv.grid_scores_]);\n",
      "\n",
      "print '{} out of {} non zero coefficients with ||w||_2 = {}'.format(\n",
      "    np.sum(ridge_cv.best_estimator_.coef_>=.01),\n",
      "    len(ridge_cv.best_estimator_.coef_),\n",
      "    np.linalg.norm(ridge_cv.best_estimator_.coef_, ord=2))\n",
      "\n",
      "plt.xscale('log')\n",
      "print ridge_cv.best_estimator_.score(X=X_train, y=y_train), ridge_cv.best_estimator_.score(X=X_test, y=y_test)\n",
      "\n",
      "print get_significant_coef(ridge_cv.best_estimator_.coef_, explanatory_cols, second_order_combinations)"
     ],
     "language": "python",
     "metadata": {},
     "outputs": [
      {
       "output_type": "stream",
       "stream": "stdout",
       "text": [
        "6 out of 13 non zero coefficients with ||w||_2 = 7.00985085438\n",
        "0.766331309749 0.688536093212\n",
        "['CRIM * CRIM = -0.856731829886', 'CRIM * ZN = 1.26193356082', 'CRIM * CHAS = 0.657234629535', 'CRIM * NOX = -2.02862669449', 'CRIM * RM = 2.38964596169', 'CRIM * DIS = -3.09571278554', 'CRIM * RAD = 1.86044309443', 'CRIM * TAX = -1.59886442926', 'CRIM * PTRATIO = -2.38502341411', 'CRIM * LSTAT = -3.86919632853']\n"
       ]
      },
      {
       "output_type": "display_data",
       "png": "[encoded data removed]"
      }
     ],
     "prompt_number": 256
    },
    {
     "cell_type": "code",
     "collapsed": false,
     "input": [
      "from sklearn.linear_model import LassoCV\n",
      "lasso_cv = LassoCV(alphas=np.logspace(-1, 0, 100), cv=10)\n",
      "lasso_regressor = lasso_cv.fit(X_train, y_train)\n",
      "\n",
      "print '{} out of {} non zero coefficients with ||w||_2 = {}'.format(\n",
      "    np.sum(lasso_regressor.coef_>=.01),\n",
      "    len(lasso_regressor.coef_),\n",
      "    np.linalg.norm(lasso_regressor.coef_, ord=2))\n",
      "\n",
      "print lasso_regressor.score(X=X_train, y=y_train), lasso_regressor.score(X=X_test, y=y_test)\n",
      "\n",
      "print get_significant_coef(lasso_regressor.coef_, explanatory_cols, second_order_combinations)\n",
      "\n",
      "plt.plot(lasso_regressor.alphas_, np.mean(lasso_regressor.mse_path_, axis=1))\n",
      "plt.xscale('log')\n"
     ],
     "language": "python",
     "metadata": {},
     "outputs": [
      {
       "output_type": "stream",
       "stream": "stdout",
       "text": [
        "5 out of 13 non zero coefficients with ||w||_2 = 6.32070740393\n",
        "0.761425081673 0.681285149439\n",
        "['CRIM * CRIM = -0.610457952752', 'CRIM * ZN = 0.996977254132', 'CRIM * CHAS = 0.640027183162', 'CRIM * NOX = -1.71312404649', 'CRIM * RM = 2.4446399333', 'CRIM * DIS = -2.64752441419', 'CRIM * RAD = 0.77895668647', 'CRIM * TAX = -0.656158990126', 'CRIM * PTRATIO = -2.29294815659', 'CRIM * LSTAT = -3.98054863351']\n"
       ]
      },
      {
       "output_type": "display_data",
       "png": "[encoded data removed]"
      }
     ],
     "prompt_number": 258
    },
    {
     "cell_type": "code",
     "collapsed": false,
     "input": [],
     "language": "python",
     "metadata": {},
     "outputs": []
    }
   ],
   "metadata": {}
  }
 ]
}